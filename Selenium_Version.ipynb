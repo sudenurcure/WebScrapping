{
  "nbformat": 4,
  "nbformat_minor": 0,
  "metadata": {
    "colab": {
      "provenance": [],
      "authorship_tag": "ABX9TyPnJnB0MwKtTG4DLDWH1uTC",
      "include_colab_link": true
    },
    "kernelspec": {
      "name": "python3",
      "display_name": "Python 3"
    },
    "language_info": {
      "name": "python"
    }
  },
  "cells": [
    {
      "cell_type": "markdown",
      "metadata": {
        "id": "view-in-github",
        "colab_type": "text"
      },
      "source": [
        "<a href=\"https://colab.research.google.com/github/sudenurcure/WebScrapping/blob/main/Selenium_Version.ipynb\" target=\"_parent\"><img src=\"https://colab.research.google.com/assets/colab-badge.svg\" alt=\"Open In Colab\"/></a>"
      ]
    },
    {
      "cell_type": "code",
      "source": [
        "!apt-get update # Update package list\n",
        "!apt install -y chromium-chromedriver # Install Chromium and ChromeDriver\n",
        "!cp /usr/lib/chromium-browser/chromedriver /usr/bin # Move chromedriver to a path in $PATH\n"
      ],
      "metadata": {
        "colab": {
          "base_uri": "https://localhost:8080/"
        },
        "id": "NyPMMqEZwSg0",
        "outputId": "1b9f0fe6-2fbf-47f0-dcf2-9c445880aee4"
      },
      "execution_count": 27,
      "outputs": [
        {
          "output_type": "stream",
          "name": "stdout",
          "text": [
            "\r0% [Working]\r            \rHit:1 https://cloud.r-project.org/bin/linux/ubuntu jammy-cran40/ InRelease\n",
            "\r0% [Connecting to archive.ubuntu.com (91.189.91.82)] [Connecting to security.ubuntu.com (91.189.91.8\r                                                                                                    \rHit:2 https://developer.download.nvidia.com/compute/cuda/repos/ubuntu2204/x86_64  InRelease\n",
            "\r0% [Waiting for headers] [Waiting for headers] [Connected to r2u.stat.illinois.edu (192.17.190.167)]\r                                                                                                    \rHit:3 https://ppa.launchpadcontent.net/deadsnakes/ppa/ubuntu jammy InRelease\n",
            "\r0% [Waiting for headers] [Waiting for headers] [Connected to r2u.stat.illinois.edu (192.17.190.167)]\r                                                                                                    \rHit:4 https://ppa.launchpadcontent.net/graphics-drivers/ppa/ubuntu jammy InRelease\n",
            "\r0% [Waiting for headers] [Waiting for headers] [Connected to r2u.stat.illinois.edu (192.17.190.167)]\r                                                                                                    \rHit:5 https://ppa.launchpadcontent.net/ubuntugis/ppa/ubuntu jammy InRelease\n",
            "Hit:6 http://archive.ubuntu.com/ubuntu jammy InRelease\n",
            "Hit:7 http://security.ubuntu.com/ubuntu jammy-security InRelease\n",
            "Hit:8 http://archive.ubuntu.com/ubuntu jammy-updates InRelease\n",
            "Hit:9 http://archive.ubuntu.com/ubuntu jammy-backports InRelease\n",
            "Hit:10 https://r2u.stat.illinois.edu/ubuntu jammy InRelease\n",
            "Reading package lists... Done\n",
            "W: Skipping acquire of configured file 'main/source/Sources' as repository 'https://r2u.stat.illinois.edu/ubuntu jammy InRelease' does not seem to provide it (sources.list entry misspelt?)\n",
            "Reading package lists... Done\n",
            "Building dependency tree... Done\n",
            "Reading state information... Done\n",
            "chromium-chromedriver is already the newest version (1:85.0.4183.83-0ubuntu2.22.04.1).\n",
            "0 upgraded, 0 newly installed, 0 to remove and 57 not upgraded.\n",
            "cp: '/usr/lib/chromium-browser/chromedriver' and '/usr/bin/chromedriver' are the same file\n"
          ]
        }
      ]
    },
    {
      "cell_type": "code",
      "execution_count": 28,
      "metadata": {
        "colab": {
          "base_uri": "https://localhost:8080/"
        },
        "id": "yKFx8fhStMfc",
        "outputId": "d26b837b-9190-46b0-f72d-bc13dc959206"
      },
      "outputs": [
        {
          "output_type": "stream",
          "name": "stdout",
          "text": [
            "Requirement already satisfied: selenium in /usr/local/lib/python3.10/dist-packages (4.27.1)\n",
            "Requirement already satisfied: urllib3<3,>=1.26 in /usr/local/lib/python3.10/dist-packages (from urllib3[socks]<3,>=1.26->selenium) (2.2.3)\n",
            "Requirement already satisfied: trio~=0.17 in /usr/local/lib/python3.10/dist-packages (from selenium) (0.27.0)\n",
            "Requirement already satisfied: trio-websocket~=0.9 in /usr/local/lib/python3.10/dist-packages (from selenium) (0.11.1)\n",
            "Requirement already satisfied: certifi>=2021.10.8 in /usr/local/lib/python3.10/dist-packages (from selenium) (2024.8.30)\n",
            "Requirement already satisfied: typing_extensions~=4.9 in /usr/local/lib/python3.10/dist-packages (from selenium) (4.12.2)\n",
            "Requirement already satisfied: websocket-client~=1.8 in /usr/local/lib/python3.10/dist-packages (from selenium) (1.8.0)\n",
            "Requirement already satisfied: attrs>=23.2.0 in /usr/local/lib/python3.10/dist-packages (from trio~=0.17->selenium) (24.2.0)\n",
            "Requirement already satisfied: sortedcontainers in /usr/local/lib/python3.10/dist-packages (from trio~=0.17->selenium) (2.4.0)\n",
            "Requirement already satisfied: idna in /usr/local/lib/python3.10/dist-packages (from trio~=0.17->selenium) (3.10)\n",
            "Requirement already satisfied: outcome in /usr/local/lib/python3.10/dist-packages (from trio~=0.17->selenium) (1.3.0.post0)\n",
            "Requirement already satisfied: sniffio>=1.3.0 in /usr/local/lib/python3.10/dist-packages (from trio~=0.17->selenium) (1.3.1)\n",
            "Requirement already satisfied: exceptiongroup in /usr/local/lib/python3.10/dist-packages (from trio~=0.17->selenium) (1.2.2)\n",
            "Requirement already satisfied: wsproto>=0.14 in /usr/local/lib/python3.10/dist-packages (from trio-websocket~=0.9->selenium) (1.2.0)\n",
            "Requirement already satisfied: pysocks!=1.5.7,<2.0,>=1.5.6 in /usr/local/lib/python3.10/dist-packages (from urllib3[socks]<3,>=1.26->selenium) (1.7.1)\n",
            "Requirement already satisfied: h11<1,>=0.9.0 in /usr/local/lib/python3.10/dist-packages (from wsproto>=0.14->trio-websocket~=0.9->selenium) (0.14.0)\n",
            "Hit:1 http://security.ubuntu.com/ubuntu jammy-security InRelease\n",
            "Hit:2 https://cloud.r-project.org/bin/linux/ubuntu jammy-cran40/ InRelease\n",
            "Hit:3 https://developer.download.nvidia.com/compute/cuda/repos/ubuntu2204/x86_64  InRelease\n",
            "Hit:4 https://ppa.launchpadcontent.net/deadsnakes/ppa/ubuntu jammy InRelease\n",
            "Hit:5 https://ppa.launchpadcontent.net/graphics-drivers/ppa/ubuntu jammy InRelease\n",
            "Hit:6 https://ppa.launchpadcontent.net/ubuntugis/ppa/ubuntu jammy InRelease\n",
            "Hit:7 http://archive.ubuntu.com/ubuntu jammy InRelease\n",
            "Hit:8 http://archive.ubuntu.com/ubuntu jammy-updates InRelease\n",
            "Hit:9 http://archive.ubuntu.com/ubuntu jammy-backports InRelease\n",
            "Hit:10 https://r2u.stat.illinois.edu/ubuntu jammy InRelease\n",
            "Reading package lists... Done\n",
            "W: Skipping acquire of configured file 'main/source/Sources' as repository 'https://r2u.stat.illinois.edu/ubuntu jammy InRelease' does not seem to provide it (sources.list entry misspelt?)\n",
            "Reading package lists... Done\n",
            "Building dependency tree... Done\n",
            "Reading state information... Done\n",
            "chromium-chromedriver is already the newest version (1:85.0.4183.83-0ubuntu2.22.04.1).\n",
            "0 upgraded, 0 newly installed, 0 to remove and 57 not upgraded.\n",
            "Requirement already satisfied: webdriver_manager in /usr/local/lib/python3.10/dist-packages (4.0.2)\n",
            "Requirement already satisfied: requests in /usr/local/lib/python3.10/dist-packages (from webdriver_manager) (2.32.3)\n",
            "Requirement already satisfied: python-dotenv in /usr/local/lib/python3.10/dist-packages (from webdriver_manager) (1.0.1)\n",
            "Requirement already satisfied: packaging in /usr/local/lib/python3.10/dist-packages (from webdriver_manager) (24.2)\n",
            "Requirement already satisfied: charset-normalizer<4,>=2 in /usr/local/lib/python3.10/dist-packages (from requests->webdriver_manager) (3.4.0)\n",
            "Requirement already satisfied: idna<4,>=2.5 in /usr/local/lib/python3.10/dist-packages (from requests->webdriver_manager) (3.10)\n",
            "Requirement already satisfied: urllib3<3,>=1.21.1 in /usr/local/lib/python3.10/dist-packages (from requests->webdriver_manager) (2.2.3)\n",
            "Requirement already satisfied: certifi>=2017.4.17 in /usr/local/lib/python3.10/dist-packages (from requests->webdriver_manager) (2024.8.30)\n"
          ]
        }
      ],
      "source": [
        "!pip install selenium\n",
        "!apt-get update # To get the latest version of apt\n",
        "!apt install -y chromium-chromedriver\n",
        "!pip install webdriver_manager"
      ]
    },
    {
      "cell_type": "code",
      "source": [
        "import time\n",
        "import random\n",
        "import csv\n",
        "import pandas as pd\n",
        "\n",
        "from selenium import webdriver\n",
        "from selenium.webdriver.chrome.service import Service\n",
        "from selenium.webdriver.common.by import By\n",
        "from selenium.webdriver.chrome.options import Options\n",
        "from selenium.webdriver.support.ui import WebDriverWait\n",
        "from selenium.webdriver.support import expected_conditions as EC\n",
        "from selenium.common.exceptions import NoSuchElementException"
      ],
      "metadata": {
        "id": "qa4LuwPPthwd"
      },
      "execution_count": 29,
      "outputs": []
    },
    {
      "cell_type": "code",
      "source": [
        "# List of User-Agent strings to rotate\n",
        "user_agents = [\n",
        "    \"Mozilla/5.0 (Windows NT 10.0; Win64; x64) AppleWebKit/537.36 (KHTML, like Gecko) Chrome/91.0.4472.124 Safari/537.36\",\n",
        "    \"Mozilla/5.0 (Windows NT 6.1; Win64; x64) AppleWebKit/537.36 (KHTML, like Gecko) Chrome/90.0.4430.93 Safari/537.36\",\n",
        "    \"Mozilla/5.0 (Windows NT 6.3; WOW64; rv:40.0) Gecko/20100101 Firefox/40.0\"\n",
        "]"
      ],
      "metadata": {
        "id": "6IaXpEOaxGWC"
      },
      "execution_count": 30,
      "outputs": []
    },
    {
      "cell_type": "code",
      "source": [
        "# Set up Chrome options for headless mode\n",
        "options = Options()\n",
        "options.add_argument('--headless')  # Run in headless mode\n",
        "options.add_argument('--no-sandbox')\n",
        "options.add_argument('--disable-dev-shm-usage')\n",
        "options.add_argument(\"--remote-debugging-port=9222\")  # Optional: Debugging\n",
        "options.add_argument(\"--incognito\")  # Optional: Run in incognito mode"
      ],
      "metadata": {
        "id": "AYroYuietwko"
      },
      "execution_count": 31,
      "outputs": []
    },
    {
      "cell_type": "code",
      "source": [
        "# Rotate User-Agent\n",
        "options.add_argument(f\"user-agent={random.choice(user_agents)}\")\n",
        "\n",
        "# Initialize the WebDriver\n",
        "driver = webdriver.Chrome(options=options)\n",
        "\n",
        "\"\"\"\n",
        "# Example: Go to a website\n",
        "driver.get(\"https://www.mayocliniclabs.com/test-catalog/overview/57892\")\n",
        "\n",
        "# Add random delay to mimic human behavior\n",
        "time.sleep(random.randint(5, 10))\n",
        "\n",
        "# Print the title of the page\n",
        "test_name = driver.find_element(By.CSS_SELECTOR, '.col-10.col-md-11 h2').text\n",
        "print(test_name)\n",
        "\n",
        "# Quit the driver after scraping\n",
        "driver.quit()\n",
        "\"\"\""
      ],
      "metadata": {
        "colab": {
          "base_uri": "https://localhost:8080/",
          "height": 73
        },
        "id": "zRC-TS_YuHmZ",
        "outputId": "2f024e81-d8bc-4a51-9537-e5d8a6e56460"
      },
      "execution_count": 32,
      "outputs": [
        {
          "output_type": "execute_result",
          "data": {
            "text/plain": [
              "'\\n# Example: Go to a website\\ndriver.get(\"https://www.mayocliniclabs.com/test-catalog/overview/57892\")\\n\\n# Add random delay to mimic human behavior\\ntime.sleep(random.randint(5, 10))\\n\\n# Print the title of the page\\ntest_name = driver.find_element(By.CSS_SELECTOR, \\'.col-10.col-md-11 h2\\').text\\nprint(test_name)\\n\\n# Quit the driver after scraping\\ndriver.quit()\\n'"
            ],
            "application/vnd.google.colaboratory.intrinsic+json": {
              "type": "string"
            }
          },
          "metadata": {},
          "execution_count": 32
        }
      ]
    },
    {
      "cell_type": "code",
      "source": [
        "def scrape_tests(letter):\n",
        "    driver.get(f\"https://www.mayocliniclabs.com/test-catalog/alphabetical/{letter}\")\n",
        "    time.sleep(random.randint(2, 5))\n",
        "\n",
        "    # Extract test links from the current page\n",
        "    test_links = []\n",
        "    try:\n",
        "        test_elements = driver.find_elements(By.CSS_SELECTOR, '.rochester-item a')\n",
        "        for test in test_elements:\n",
        "            href = test.get_attribute('href')\n",
        "            test_links.append(href)\n",
        "    except Exception as e:\n",
        "        print(f\"Error extracting test links: {e}\")\n",
        "\n",
        "    print(f\"Found {len(test_links)} links\")\n",
        "    return test_links"
      ],
      "metadata": {
        "id": "26YK6RWZx_uk"
      },
      "execution_count": 33,
      "outputs": []
    },
    {
      "cell_type": "code",
      "source": [
        "def get_text_by_css_selector(driver, selector):\n",
        "    try:\n",
        "        element = driver.find_element(By.CSS_SELECTOR, selector)\n",
        "        return element.text.strip()\n",
        "    except Exception as e:\n",
        "        return \" \""
      ],
      "metadata": {
        "id": "x2CFF9IVsMtH"
      },
      "execution_count": 34,
      "outputs": []
    },
    {
      "cell_type": "code",
      "source": [
        "def get_table_data(driver, selector):\n",
        "    try:\n",
        "        table = driver.find_element(By.CSS_SELECTOR, selector)\n",
        "        rows = table.find_elements(By.TAG_NAME, \"tr\")\n",
        "        data = []\n",
        "        for row in rows:\n",
        "            cells = row.find_elements(By.TAG_NAME, \"td\")\n",
        "            if cells:\n",
        "                first_column_data = cells[0].text.strip()\n",
        "                if first_column_data:\n",
        "                    data.append(first_column_data)\n",
        "        return data\n",
        "    except Exception as e:\n",
        "        return \" \""
      ],
      "metadata": {
        "id": "RrSi6n0Es-Si"
      },
      "execution_count": 35,
      "outputs": []
    },
    {
      "cell_type": "code",
      "source": [
        "def get_all_paragraphs(driver, element_id):\n",
        "    try:\n",
        "        element = driver.find_element(By.CSS_SELECTOR, f'#{element_id}')\n",
        "        paragraphs = element.find_elements(By.TAG_NAME, 'p')\n",
        "        return \" \".join([p.text.strip() for p in paragraphs if p.text.strip() != \"\"])\n",
        "    except Exception as e:\n",
        "        return \" \""
      ],
      "metadata": {
        "id": "KTYprUHkqW9B"
      },
      "execution_count": 36,
      "outputs": []
    },
    {
      "cell_type": "code",
      "source": [
        "def scrape_test_details(test_url):\n",
        "    print(test_url)\n",
        "    driver.get(test_url)\n",
        "    time.sleep(5+random.randint(2, 5))\n",
        "\n",
        "    test_name = driver.find_element(By.CSS_SELECTOR, '.col-10.col-md-11 h2').text\n",
        "\n",
        "    # Overview\n",
        "    useful_for = get_all_paragraphs(driver, \"Usefulfor-value\")\n",
        "    method_info = get_all_paragraphs(driver, \"MethodName-value\")\n",
        "    aliases = get_all_paragraphs(driver, \"aliases-value\")\n",
        "\n",
        "    # Specimen\n",
        "    driver.get(test_url+\"#Specimen\")\n",
        "    #time.sleep(5+random.randint(2, 5))\n",
        "    specimen_type = get_text_by_css_selector(driver, \"#tabcontent-Specimen p\")\n",
        "    shipping = get_all_paragraphs(driver, \"ShippingInstructions-value\")\n",
        "    specimen_required = get_all_paragraphs(driver, \"SpecimenRequired-value\")\n",
        "    specimen_min_volume = get_all_paragraphs(driver, \"SpecimenMinimumVolume-value\")\n",
        "    reject_due_to = get_table_data(driver, \"#RejectDueTo-value table\")\n",
        "\n",
        "    # Clinical\n",
        "    driver.get(test_url+\"#Clinical-and-Interpretive\")\n",
        "    #time.sleep(5+random.randint(2, 5))\n",
        "    clinical_information = get_all_paragraphs(driver, \"ClinicalInformation-value\")\n",
        "    reference_values = get_all_paragraphs(driver, \"ReferenceValues-value\")\n",
        "\n",
        "    # Performance\n",
        "    driver.get(test_url+\"#Performance\")\n",
        "    #time.sleep(5+random.randint(2, 5))\n",
        "    method = get_all_paragraphs(driver, \"MethodDescription-value\")\n",
        "    days_performed = get_all_paragraphs(driver, \"DaysPerformed-value\")\n",
        "    report_available = driver.find_element(By.ID, \"ReportAvailable-value\").text.strip() if driver.find_elements(By.ID, \"ReportAvailable-value\") else \" \"\n",
        "\n",
        "    return {\n",
        "        \"test_url\": test_url,\n",
        "        \"test_name\": test_name,\n",
        "        \"useful_for\": useful_for,\n",
        "        \"method_name\": method_info,\n",
        "        \"aliases\": aliases,\n",
        "        \"specimen_type\": specimen_type,\n",
        "        \"shipping_instructions\": shipping,\n",
        "        \"specimen_required\": specimen_required,\n",
        "        \"specimen_min_volume\": specimen_min_volume,\n",
        "        \"reject_due_to\": reject_due_to,\n",
        "        \"clinical_information\": clinical_information,\n",
        "        \"reference_values\": reference_values,\n",
        "        \"method\": method,\n",
        "        \"days_performed\": days_performed,\n",
        "        \"report_available\": report_available\n",
        "    }\n",
        "\n"
      ],
      "metadata": {
        "id": "0zgguH3w1-Jb"
      },
      "execution_count": 37,
      "outputs": []
    },
    {
      "cell_type": "code",
      "source": [
        "def save_to_csv(data, filename=\"tests_data.csv\"):\n",
        "    keys = data[0].keys()\n",
        "    with open(filename, mode='w', newline='', encoding='utf-8') as file:\n",
        "        writer = csv.DictWriter(file, fieldnames=keys)\n",
        "        writer.writeheader()\n",
        "        writer.writerows(data)"
      ],
      "metadata": {
        "id": "Yv2xYunayGdx"
      },
      "execution_count": 38,
      "outputs": []
    },
    {
      "cell_type": "code",
      "source": [
        "def save_to_excel(data, filename=\"Tests.xlsx\"):\n",
        "    try:\n",
        "        df = pd.DataFrame(data)\n",
        "        df.to_excel(filename, index=False, engine='openpyxl')\n",
        "        print(f\"Data successfully saved to {filename}.\")\n",
        "    except Exception as e:\n",
        "        print(f\"Error saving data to Excel: {e}\")\n"
      ],
      "metadata": {
        "id": "mmTdgGbJJIgP"
      },
      "execution_count": 39,
      "outputs": []
    },
    {
      "cell_type": "code",
      "source": [
        "def main():\n",
        "    all_test_data = []\n",
        "    n=0\n",
        "    #Pullin every tests under every letter takes too much time\n",
        "    for letter in \"A\":\n",
        "        print(f\"Scraping letter {letter}\")\n",
        "        test_links = scrape_tests(letter)\n",
        "        #test_links = test_links[:5]\n",
        "\n",
        "        for test in test_links:\n",
        "            n+=1\n",
        "            print(f\"Scraping test {n} of {len(test_links)}: \")\n",
        "            test_details = scrape_test_details(test)\n",
        "            if test_details:\n",
        "                all_test_data.append(test_details)\n",
        "\n",
        "    save_to_excel(all_test_data)\n",
        "\n",
        "main()\n",
        "\n",
        "driver.quit()"
      ],
      "metadata": {
        "colab": {
          "base_uri": "https://localhost:8080/"
        },
        "id": "gbDb3DHqyHIW",
        "outputId": "6636431d-1a89-4e75-a40e-42ec60bb2da9"
      },
      "execution_count": 40,
      "outputs": [
        {
          "output_type": "stream",
          "name": "stdout",
          "text": [
            "Scraping letter A\n",
            "Found 330 links\n",
            "Scraping test 1 of 5: \n",
            "https://www.mayocliniclabs.com/test-catalog/overview/113437\n",
            "Scraping test 2 of 5: \n",
            "https://www.mayocliniclabs.com/test-catalog/overview/620307\n",
            "Scraping test 3 of 5: \n",
            "https://www.mayocliniclabs.com/test-catalog/overview/63686\n",
            "Scraping test 4 of 5: \n",
            "https://www.mayocliniclabs.com/test-catalog/overview/113498\n",
            "Scraping test 5 of 5: \n",
            "https://www.mayocliniclabs.com/test-catalog/overview/113490\n",
            "Data successfully saved to Tests.xlsx.\n",
            "Data scraping completed and saved to tests_data.csv\n"
          ]
        }
      ]
    }
  ]
}